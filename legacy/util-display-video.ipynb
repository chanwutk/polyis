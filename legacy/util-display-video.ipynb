{
 "cells": [
  {
   "cell_type": "code",
   "execution_count": 31,
   "metadata": {},
   "outputs": [],
   "source": [
    "from IPython.display import Video\n",
    "import os"
   ]
  },
  {
   "cell_type": "code",
   "execution_count": 32,
   "metadata": {},
   "outputs": [],
   "source": [
    "FILENAME = \"video-masked/jnc01.mp4\""
   ]
  },
  {
   "cell_type": "code",
   "execution_count": 33,
   "metadata": {},
   "outputs": [],
   "source": [
    "OUTPUT_FILENAME = f\"{FILENAME[:-len('.mp4')]}.x264.mp4\""
   ]
  },
  {
   "cell_type": "code",
   "execution_count": 34,
   "metadata": {},
   "outputs": [
    {
     "name": "stdout",
     "output_type": "stream",
     "text": [
      "docker run --rm -v $(pwd):/config linuxserver/ffmpeg -i /config/video-masked/jnc01.mp4 -vcodec libx264 /config/video-masked/jnc01.x264.mp4\n"
     ]
    },
    {
     "name": "stderr",
     "output_type": "stream",
     "text": [
      "ffmpeg version 7.1 Copyright (c) 2000-2024 the FFmpeg developers\n",
      "  built with gcc 13 (Ubuntu 13.3.0-6ubuntu2~24.04)\n",
      "  configuration: --disable-debug --disable-doc --disable-ffplay --enable-alsa --enable-cuda-llvm --enable-cuvid --enable-ffprobe --enable-gpl --enable-libaom --enable-libass --enable-libdav1d --enable-libfdk_aac --enable-libfontconfig --enable-libfreetype --enable-libfribidi --enable-libharfbuzz --enable-libkvazaar --enable-liblc3 --enable-libmp3lame --enable-libopencore-amrnb --enable-libopencore-amrwb --enable-libopenjpeg --enable-libopus --enable-libplacebo --enable-librav1e --enable-librist --enable-libshaderc --enable-libsrt --enable-libsvtav1 --enable-libtheora --enable-libv4l2 --enable-libvidstab --enable-libvmaf --enable-libvorbis --enable-libvpl --enable-libvpx --enable-libvvenc --enable-libwebp --enable-libx264 --enable-libx265 --enable-libxml2 --enable-libxvid --enable-libzimg --enable-libzmq --enable-nonfree --enable-nvdec --enable-nvenc --enable-opencl --enable-openssl --enable-stripping --enable-vaapi --enable-vdpau --enable-version3 --enable-vulkan\n",
      "  libavutil      59. 39.100 / 59. 39.100\n",
      "  libavcodec     61. 19.100 / 61. 19.100\n",
      "  libavformat    61.  7.100 / 61.  7.100\n",
      "  libavdevice    61.  3.100 / 61.  3.100\n",
      "  libavfilter    10.  4.100 / 10.  4.100\n",
      "  libswscale      8.  3.100 /  8.  3.100\n",
      "  libswresample   5.  3.100 /  5.  3.100\n",
      "  libpostproc    58.  3.100 / 58.  3.100\n",
      "Input #0, mov,mp4,m4a,3gp,3g2,mj2, from '/config/video-masked/jnc01.mp4':\n",
      "  Metadata:\n",
      "    major_brand     : isom\n",
      "    minor_version   : 512\n",
      "    compatible_brands: isomiso2mp41\n",
      "    encoder         : Lavf61.7.100\n",
      "  Duration: 00:21:30.07, start: 0.000000, bitrate: 2314 kb/s\n",
      "  Stream #0:0[0x1](und): Video: mpeg4 (Simple Profile) (mp4v / 0x7634706D), yuv420p, 1528x1044 [SAR 1:1 DAR 382:261], 2313 kb/s, 15 fps, 15 tbr, 15360 tbn (default)\n",
      "      Metadata:\n",
      "        handler_name    : VideoHandler\n",
      "        vendor_id       : [0][0][0][0]\n",
      "Stream mapping:\n",
      "  Stream #0:0 -> #0:0 (mpeg4 (native) -> h264 (libx264))\n",
      "Press [q] to stop, [?] for help\n",
      "[libx264 @ 0x561cab2af7c0] using SAR=1/1\n",
      "[libx264 @ 0x561cab2af7c0] using cpu capabilities: MMX2 SSE2Fast SSSE3 SSE4.2 AVX FMA3 BMI2 AVX2 AVX512\n",
      "[libx264 @ 0x561cab2af7c0] profile High, level 4.0, 4:2:0, 8-bit\n",
      "[libx264 @ 0x561cab2af7c0] 264 - core 164 - H.264/MPEG-4 AVC codec - Copyleft 2003-2025 - http://www.videolan.org/x264.html - options: cabac=1 ref=3 deblock=1:0:0 analyse=0x3:0x113 me=hex subme=7 psy=1 psy_rd=1.00:0.00 mixed_ref=1 me_range=16 chroma_me=1 trellis=1 8x8dct=1 cqm=0 deadzone=21,11 fast_pskip=1 chroma_qp_offset=-2 threads=33 lookahead_threads=5 sliced_threads=0 nr=0 decimate=1 interlaced=0 bluray_compat=0 constrained_intra=0 bframes=3 b_pyramid=2 b_adapt=1 b_bias=0 direct=1 weightb=1 open_gop=0 weightp=2 keyint=250 keyint_min=15 scenecut=40 intra_refresh=0 rc_lookahead=40 rc=crf mbtree=1 crf=23.0 qcomp=0.60 qpmin=0 qpmax=69 qpstep=4 ip_ratio=1.40 aq=1:1.00\n",
      "Output #0, mp4, to '/config/video-masked/jnc01.x264.mp4':\n",
      "  Metadata:\n",
      "    major_brand     : isom\n",
      "    minor_version   : 512\n",
      "    compatible_brands: isomiso2mp41\n",
      "    encoder         : Lavf61.7.100\n",
      "  Stream #0:0(und): Video: h264 (avc1 / 0x31637661), yuv420p(tv, progressive), 1528x1044 [SAR 1:1 DAR 382:261], q=2-31, 15 fps, 15360 tbn (default)\n",
      "      Metadata:\n",
      "        handler_name    : VideoHandler\n",
      "        vendor_id       : [0][0][0][0]\n",
      "        encoder         : Lavc61.19.100 libx264\n",
      "      Side data:\n",
      "        cpb: bitrate max/min/avg: 0/0/0 buffer size: 0 vbv_delay: N/A\n",
      "[out#0/mp4 @ 0x561cab2b1ac0] video:226522KiB audio:0KiB subtitle:0KiB other streams:0KiB global headers:0KiB muxing overhead: 0.056566%\n",
      "frame=19351 fps=193 q=-1.0 Lsize=  226650KiB time=00:21:29.93 bitrate=1439.4kbits/s speed=12.8x    \n",
      "[libx264 @ 0x561cab2af7c0] frame I:78    Avg QP:13.45  size:102879\n",
      "[libx264 @ 0x561cab2af7c0] frame P:15819 Avg QP:20.46  size: 13468\n",
      "[libx264 @ 0x561cab2af7c0] frame B:3454  Avg QP:23.32  size:  3153\n",
      "[libx264 @ 0x561cab2af7c0] consecutive B-frames: 72.5%  6.5% 14.1%  7.0%\n",
      "[libx264 @ 0x561cab2af7c0] mb I  I16..4: 31.7% 57.6% 10.7%\n",
      "[libx264 @ 0x561cab2af7c0] mb P  I16..4:  0.5%  2.1%  0.1%  P16..4: 18.9%  6.7%  5.7%  0.0%  0.0%    skip:65.9%\n",
      "[libx264 @ 0x561cab2af7c0] mb B  I16..4:  0.5%  2.2%  0.0%  B16..8: 21.0%  1.3%  0.1%  direct: 0.3%  skip:74.4%  L0:51.8% L1:41.0% BI: 7.2%\n",
      "[libx264 @ 0x561cab2af7c0] 8x8 transform intra:74.5% inter:73.3%\n",
      "[libx264 @ 0x561cab2af7c0] coded y,uvDC,uvAC intra: 38.8% 35.4% 8.6% inter: 10.3% 8.0% 0.4%\n",
      "[libx264 @ 0x561cab2af7c0] i16 v,h,dc,p: 37% 35% 23%  5%\n",
      "[libx264 @ 0x561cab2af7c0] i8 v,h,dc,ddl,ddr,vr,hd,vl,hu: 20% 28% 44%  1%  1%  1%  1%  1%  2%\n",
      "[libx264 @ 0x561cab2af7c0] i4 v,h,dc,ddl,ddr,vr,hd,vl,hu: 36% 31% 15%  3%  3%  3%  3%  3%  3%\n",
      "[libx264 @ 0x561cab2af7c0] i8c dc,h,v,p: 58% 22% 18%  2%\n",
      "[libx264 @ 0x561cab2af7c0] Weighted P-Frames: Y:0.0% UV:0.0%\n",
      "[libx264 @ 0x561cab2af7c0] ref P L0: 77.6%  9.8%  9.1%  3.5%\n",
      "[libx264 @ 0x561cab2af7c0] ref B L0: 90.1%  7.9%  2.0%\n",
      "[libx264 @ 0x561cab2af7c0] ref B L1: 98.8%  1.2%\n",
      "[libx264 @ 0x561cab2af7c0] kb/s:1438.43\n"
     ]
    },
    {
     "data": {
      "text/html": [
       "<video src=\"video-masked/jnc01.x264.mp4\" controls  >\n",
       "      Your browser does not support the <code>video</code> element.\n",
       "    </video>"
      ],
      "text/plain": [
       "<IPython.core.display.Video object>"
      ]
     },
     "execution_count": 34,
     "metadata": {},
     "output_type": "execute_result"
    }
   ],
   "source": [
    "if os.path.exists(OUTPUT_FILENAME):\n",
    "    os.system(OUTPUT_FILENAME)\n",
    "\n",
    "command = (\n",
    "    \"docker run --rm -v $(pwd):/config linuxserver/ffmpeg \" +\n",
    "    \"-i {input_file} \".format(input_file=os.path.join('/config', FILENAME)) +\n",
    "    \"-vcodec libx264 \" +\n",
    "    \"{output_file}\".format(output_file=os.path.join('/config', OUTPUT_FILENAME))\n",
    ")\n",
    "print(command)\n",
    "os.system(command)\n",
    "# os.system(f\"ffmpeg -i ./{FILENAME} ./{FILENAME[:-len('.mp4')]}_x264.mp4\")\n",
    "Video(f\"{FILENAME[:-len('.mp4')]}.x264.mp4\")"
   ]
  }
 ],
 "metadata": {
  "kernelspec": {
   "display_name": "Python 3",
   "language": "python",
   "name": "python3"
  },
  "language_info": {
   "codemirror_mode": {
    "name": "ipython",
    "version": 3
   },
   "file_extension": ".py",
   "mimetype": "text/x-python",
   "name": "python",
   "nbconvert_exporter": "python",
   "pygments_lexer": "ipython3",
   "version": "3.13.1"
  }
 },
 "nbformat": 4,
 "nbformat_minor": 2
}
